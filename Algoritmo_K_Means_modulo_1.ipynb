{
  "nbformat": 4,
  "nbformat_minor": 0,
  "metadata": {
    "colab": {
      "name": "Algoritmo K-Means - modulo 1.ipynb",
      "provenance": [],
      "authorship_tag": "ABX9TyO8Gk+YQ3/TxtBpqojiHo7Z",
      "include_colab_link": true
    },
    "kernelspec": {
      "name": "python3",
      "display_name": "Python 3"
    }
  },
  "cells": [
    {
      "cell_type": "markdown",
      "metadata": {
        "id": "view-in-github",
        "colab_type": "text"
      },
      "source": [
        "<a href=\"https://colab.research.google.com/github/filipperogerio/Bootcamp-Ci-ncia-de-dados---IGTI/blob/master/Algoritmo_K_Means_modulo_1.ipynb\" target=\"_parent\"><img src=\"https://colab.research.google.com/assets/colab-badge.svg\" alt=\"Open In Colab\"/></a>"
      ]
    },
    {
      "cell_type": "code",
      "metadata": {
        "id": "gcOMNzM0yh1m",
        "colab_type": "code",
        "colab": {}
      },
      "source": [
        "from math import sqrt\n",
        "from matplotlib import pyplot as plt\n",
        "from sklearn.datasets import make_blobs\n",
        "from sklearn.cluster import KMeans"
      ],
      "execution_count": 45,
      "outputs": []
    },
    {
      "cell_type": "code",
      "metadata": {
        "id": "bhFYoeUsy-Ji",
        "colab_type": "code",
        "colab": {
          "base_uri": "https://localhost:8080/",
          "height": 282
        },
        "outputId": "0d44679b-7d38-4c54-8638-d9daeb29d21e"
      },
      "source": [
        "X, y = make_blobs(n_samples=500, centers=20, random_state=999)\n",
        "plt.scatter(X[:,0], X[:,1])"
      ],
      "execution_count": 48,
      "outputs": [
        {
          "output_type": "execute_result",
          "data": {
            "text/plain": [
              "<matplotlib.collections.PathCollection at 0x7fb2e3b77b70>"
            ]
          },
          "metadata": {
            "tags": []
          },
          "execution_count": 48
        },
        {
          "output_type": "display_data",
          "data": {
            "image/png": "[encoded data removed]",
            "text/plain": [
              "<Figure size 432x288 with 1 Axes>"
            ]
          },
          "metadata": {
            "tags": [],
            "needs_background": "light"
          }
        }
      ]
    },
    {
      "cell_type": "code",
      "metadata": {
        "id": "gEu4z0rKzMqL",
        "colab_type": "code",
        "colab": {}
      },
      "source": [
        "def optimal_number_of_clusters(wcss):\n",
        "    x1, y1 = 1, wcss[0]\n",
        "    x2, y2 = 19, wcss[len(wcss)-1]\n",
        "    distances = []\n",
        "    for i in range(len(wcss)):\n",
        "        x0 = i + 1\n",
        "        y0 = wcss[i]\n",
        "        numerator = abs((y2-y1)*x0 - (x2-x1)*y0 + x2*y1 - y2*x1)\n",
        "        denominator = sqrt((y2 - y1)**2 + (x2 - x1)**2)\n",
        "        distances.append(numerator/denominator)\n",
        "    \n",
        "    return distances.index(max(distances)) + 1"
      ],
      "execution_count": 3,
      "outputs": []
    },
    {
      "cell_type": "code",
      "metadata": {
        "id": "x7cpmK9uzPek",
        "colab_type": "code",
        "colab": {
          "base_uri": "https://localhost:8080/",
          "height": 34
        },
        "outputId": "f5ca9ec1-ef5f-4f29-b90e-5fbce8c127ff"
      },
      "source": [
        "wcss = []\n",
        "for i in range(1, 20):\n",
        "    kmeans = KMeans(n_clusters=i, init='k-means++', max_iter=300, n_init=10)\n",
        "    kmeans.fit(X)\n",
        "    wcss.append(kmeans.inertia_)\n",
        "n = optimal_number_of_clusters(wcss)\n",
        "print(n)\n"
      ],
      "execution_count": 15,
      "outputs": [
        {
          "output_type": "stream",
          "text": [
            "4\n"
          ],
          "name": "stdout"
        }
      ]
    },
    {
      "cell_type": "code",
      "metadata": {
        "id": "WOGXbXxr9CPh",
        "colab_type": "code",
        "colab": {
          "base_uri": "https://localhost:8080/",
          "height": 34
        },
        "outputId": "0192346e-b56c-4e5d-d04b-c3d0b6307c2b"
      },
      "source": [
        "wcss = []\n",
        "\n",
        "kmeans = KMeans(n_clusters=5, init='k-means++', max_iter=300, n_init=10)\n",
        "res = kmeans.fit(X)\n",
        "wcss.append(kmeans.inertia_)\n",
        "print(wcss)\n",
        "\n"
      ],
      "execution_count": 63,
      "outputs": [
        {
          "output_type": "stream",
          "text": [
            "[4717.404091931214]\n"
          ],
          "name": "stdout"
        }
      ]
    },
    {
      "cell_type": "code",
      "metadata": {
        "id": "La1f_XdyVnfv",
        "colab_type": "code",
        "colab": {
          "base_uri": "https://localhost:8080/",
          "height": 51
        },
        "outputId": "7eeda985-f7ee-49e0-8ebb-8134fc120060"
      },
      "source": [
        "wcss = []\n",
        "\n",
        "kmeans = KMeans(n_clusters=1, init='k-means++', max_iter=300, n_init=10)\n",
        "res = kmeans.fit(X)\n",
        "centroides = kmeans.cluster_centers_\n",
        "wcss.append(kmeans.inertia_)\n",
        "print(wcss)\n",
        "print(centroides)\n"
      ],
      "execution_count": 64,
      "outputs": [
        {
          "output_type": "stream",
          "text": [
            "[31547.372471390485]\n",
            "[[ 0.02618523 -1.30384304]]\n"
          ],
          "name": "stdout"
        }
      ]
    },
    {
      "cell_type": "code",
      "metadata": {
        "id": "SRAPmlghzuY6",
        "colab_type": "code",
        "colab": {
          "base_uri": "https://localhost:8080/",
          "height": 295
        },
        "outputId": "99304559-a1a6-4e48-caea-645ca30defb4"
      },
      "source": [
        "wcss = []\n",
        "for i in range(1, 20):\n",
        "    kmeans = KMeans(n_clusters=i, init='k-means++', max_iter=300, n_init=10)\n",
        "    kmeans.fit(X)\n",
        "    wcss.append(kmeans.inertia_)\n",
        "plt.plot(range(1, 20), wcss)\n",
        "plt.plot([1, 19],[wcss[0], wcss[len(wcss)-1]])\n",
        "plt.title('Elbow Method')\n",
        "plt.xlabel('Number of clusters')\n",
        "plt.ylabel('WCSS')\n",
        "plt.grid()\n",
        "plt.show()"
      ],
      "execution_count": 5,
      "outputs": [
        {
          "output_type": "display_data",
          "data": {
            "image/png": "[encoded data removed]",
            "text/plain": [
              "<Figure size 432x288 with 1 Axes>"
            ]
          },
          "metadata": {
            "tags": [],
            "needs_background": "light"
          }
        }
      ]
    }
  ]
}